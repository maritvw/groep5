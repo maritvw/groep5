{
 "cells": [
  {
   "cell_type": "markdown",
   "id": "b6706545",
   "metadata": {},
   "source": [
    "# Lab 7: Versioning 1"
   ]
  },
  {
   "cell_type": "markdown",
   "id": "91c1048e",
   "metadata": {},
   "source": [
    "Answer the questions below.\n",
    "\n",
    "**Question 1: Which branch is the default when you clone a repository?**"
   ]
  },
  {
   "cell_type": "markdown",
   "id": "702f4cb3",
   "metadata": {},
   "source": [
    "Answer here."
   ]
  },
  {
   "cell_type": "markdown",
   "id": "fe792d7e",
   "metadata": {},
   "source": [
    "**Question 2: Navigate to the `Source Control` tab in VS Code. Add a screenshot of it. Describe the functions of the `changes` and `graph` sub tabs.**"
   ]
  },
  {
   "cell_type": "markdown",
   "id": "f542a54a",
   "metadata": {},
   "source": [
    "Answer here."
   ]
  },
  {
   "cell_type": "markdown",
   "id": "896cb8ea",
   "metadata": {},
   "source": [
    "**Question 3: Given the changes you have made in the set of files in the notebook for Part 2, when merging, what are the most likely conflicts we would get?**"
   ]
  },
  {
   "cell_type": "markdown",
   "id": "89d49075",
   "metadata": {},
   "source": [
    "Answer here."
   ]
  },
  {
   "cell_type": "markdown",
   "id": "11eca4a4",
   "metadata": {},
   "source": [
    "**Question 4: What are some ways to prevent merge conflicts?**\n"
   ]
  },
  {
   "cell_type": "markdown",
   "id": "c646077c",
   "metadata": {},
   "source": [
    "Answer here."
   ]
  },
  {
   "cell_type": "markdown",
   "id": "1f3cda74",
   "metadata": {},
   "source": [
    "**Question 5: After creating the group repo in Part 2, please add the link to the repo here.**"
   ]
  },
  {
   "cell_type": "markdown",
   "id": "b9a8f764",
   "metadata": {},
   "source": [
    "Input your repo link here: ### YOUR LINK HERE ###"
   ]
  },
  {
   "cell_type": "markdown",
   "id": "3c33aa2f",
   "metadata": {},
   "source": [
    "After answering these questions, please push your changes back into the remote repository."
   ]
  }
 ],
 "metadata": {
  "language_info": {
   "name": "python"
  }
 },
 "nbformat": 4,
 "nbformat_minor": 5
}
